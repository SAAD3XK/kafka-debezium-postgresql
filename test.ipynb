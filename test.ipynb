{
 "cells": [
  {
   "cell_type": "code",
   "execution_count": 8,
   "metadata": {},
   "outputs": [
    {
     "name": "stdout",
     "output_type": "stream",
     "text": [
      "Connected to database successfully!\n",
      "Table created successfully or already exists!\n",
      "Inserted JSON data into the table successfully!\n",
      "Inserted JSON data into the table successfully!\n",
      "Connection closed.\n"
     ]
    }
   ],
   "source": [
    "import psycopg2\n",
    "from dotenv import load_dotenv\n",
    "import os\n",
    "from psycopg2 import extras\n",
    "import json\n",
    "\n",
    "load_dotenv()\n",
    "\n",
    "# Connection parameters\n",
    "dbname = os.environ['DATABASE_NAME']\n",
    "user = os.environ['DATABASE_USER']\n",
    "password = os.environ['DATABASE_PASSWORD']\n",
    "host = 'localhost'\n",
    "port = 5444\n",
    "\n",
    "# Establishing the connection\n",
    "try:\n",
    "    conn = psycopg2.connect(\n",
    "        dbname=dbname,\n",
    "        user=user,\n",
    "        password=password,\n",
    "        host=host,\n",
    "        port=port\n",
    "    )\n",
    "    print(\"Connected to database successfully!\")\n",
    "except psycopg2.Error as e:\n",
    "    print(\"Unable to connect to the database:\", e)\n",
    "\n",
    "\n",
    "# Define a function to create the table if it does not exist\n",
    "def create_table_if_not_exists(conn, table_name):\n",
    "    cursor = conn.cursor()\n",
    "    try:\n",
    "        cursor.execute(f\"CREATE TABLE IF NOT EXISTS {table_name} (id SERIAL PRIMARY KEY, data JSONB)\")\n",
    "        conn.commit()\n",
    "        print(\"Table created successfully or already exists!\")\n",
    "    except psycopg2.Error as e:\n",
    "        print(\"Error creating table:\", e)\n",
    "    finally:\n",
    "        cursor.close()\n",
    "\n",
    "# Define a function to insert JSON data into the database\n",
    "def insert_json_data(conn, table_name, json_data):\n",
    "    cursor = conn.cursor()\n",
    "    try:\n",
    "        cursor.execute(f\"INSERT INTO {table_name} (data) VALUES (%s)\", (json.dumps(json_data),))\n",
    "        conn.commit()\n",
    "        print(\"Inserted JSON data into the table successfully!\")\n",
    "    except psycopg2.Error as e:\n",
    "        print(\"Error inserting JSON data into the table:\", e)\n",
    "    finally:\n",
    "        cursor.close()\n",
    "\n",
    "# Define the table name\n",
    "table_name = 'test_json'\n",
    "\n",
    "# Create the table if it does not exist\n",
    "create_table_if_not_exists(conn, table_name)\n",
    "\n",
    "# Get the list of JSON files\n",
    "json_files_dir = '../data/ntb_json/'\n",
    "json_files = os.listdir(json_files_dir)[:2]  # Assuming you want to process the first two files\n",
    "\n",
    "# Iterate over the JSON files and insert their data into the database\n",
    "for json_file in json_files:\n",
    "    with open(os.path.join(json_files_dir, json_file), 'r') as f:\n",
    "        json_data = json.load(f)\n",
    "        insert_json_data(conn, table_name, json_data)\n",
    "\n",
    "# Close the database connection\n",
    "conn.close()\n",
    "print(\"Connection closed.\")"
   ]
  },
  {
   "cell_type": "code",
   "execution_count": null,
   "metadata": {},
   "outputs": [],
   "source": []
  }
 ],
 "metadata": {
  "kernelspec": {
   "display_name": "Python 3",
   "language": "python",
   "name": "python3"
  },
  "language_info": {
   "codemirror_mode": {
    "name": "ipython",
    "version": 3
   },
   "file_extension": ".py",
   "mimetype": "text/x-python",
   "name": "python",
   "nbconvert_exporter": "python",
   "pygments_lexer": "ipython3",
   "version": "3.10.12"
  }
 },
 "nbformat": 4,
 "nbformat_minor": 2
}
